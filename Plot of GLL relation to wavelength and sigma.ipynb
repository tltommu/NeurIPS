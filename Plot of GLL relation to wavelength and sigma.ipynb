import numpy as np
import matplotlib.pyplot as plt
import sympy as sym
from sympy.utilities.lambdify import implemented_function
import plotly.graph_objects as go
import plotly.express as px
import pandas as pd

y,mu,sigma=sym.symbols('y \mu \sigma')
L=-1/2*(sym.log(2*sym.pi)+sym.log(sigma**2)+(y-mu)**2/sigma**2)
Lmu=sym.diff(L,mu)
Lsigma=sym.diff(L,sigma)
L_lambda=sym.lambdify([y,mu,sigma],L,modules=['numpy'])
Lmu_lambda=sym.lambdify([y,mu,sigma],Lmu,modules=['numpy'])
Lsigma_lambda=sym.lambdify([y,mu,sigma],Lsigma,modules=['numpy'])

sym.lambdify([mu,sigma],L.subs(y,0.00005),modules=['numpy'])(1,2)

mu_numerics=np.linspace(0.000001,0.00299,1000)
sigma_numerics=np.linspace(0.000001,0.000155,1000)
y_numerics=0.001*np.ones(sigma_numerics.shape)
L_range=L_lambda(y_numerics,mu_numerics,sigma_numerics)
Lmu_range=Lmu_lambda(y_numerics,mu_numerics,sigma_numerics)
Lsigma_range=Lsigma_lambda(y_numerics,mu_numerics,sigma_numerics)

XX,YY=np.meshgrid(mu_numerics,sigma_numerics)
ZZ=sym.lambdify([mu,sigma],L.subs(y,0.00002),modules=['numpy'])(XX,YY)

fig =px.imshow(ZZ)
fig.show()

import plotly.graph_objects as go

fig = go.Figure(go.Surface(
    x = mu_numerics,
    y = sigma_numerics,
    z = ZZ))
fig.update_layout(
    title="Plot Title",
    
    legend_title="Legend Title",
    font=dict(
        family="Courier New, monospace",
        size=18,
        color="RebeccaPurple"
    )
)
fig.show()
